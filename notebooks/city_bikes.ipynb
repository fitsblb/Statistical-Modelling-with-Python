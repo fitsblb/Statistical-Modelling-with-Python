{
 "cells": [
  {
   "cell_type": "markdown",
   "metadata": {},
   "source": [
    "# CityBikes"
   ]
  },
  {
   "cell_type": "markdown",
   "metadata": {},
   "source": [
    "Send a request to CityBikes for the city of your choice. "
   ]
  },
  {
   "cell_type": "code",
   "execution_count": 1,
   "metadata": {},
   "outputs": [],
   "source": [
    "import requests\n",
    "import pandas as pd\n",
    "from typing import List, Dict\n",
    "\n",
    "def get_city_bikes_data(city: str) -> pd.DataFrame:\n",
    "    \"\"\"\n",
    "    Retrieves bike station data from CityBikes API and returns it as a DataFrame.\n",
    "    \n",
    "    Args:\n",
    "        city (str): Name of the city to query (case-insensitive).\n",
    "    \n",
    "    Returns:\n",
    "        pd.DataFrame: DataFrame containing station data with columns:\n",
    "            - name: Station name\n",
    "            - latitude: Station latitude\n",
    "            - longitude: Station longitude\n",
    "            - free_bikes: Number of available bikes\n",
    "            - empty_slots: Number of empty slots available.\n",
    "    \"\"\"\n",
    "    base_url = \"http://api.citybik.es/v2/networks\"\n",
    "    response = requests.get(base_url)\n",
    "\n",
    "    if response.status_code != 200:\n",
    "        raise Exception(\"Failed to fetch data from CityBikes API\")\n",
    "\n",
    "    data = response.json()\n",
    "\n",
    "    city_network = next(\n",
    "        (network for network in data['networks'] \n",
    "         if 'location' in network \n",
    "         and 'city' in network['location'] \n",
    "         and city.lower() in network['location']['city'].lower()),\n",
    "        None\n",
    "    )\n",
    "\n",
    "    if not city_network:\n",
    "        raise Exception(f\"{city} network not found in the API\")\n",
    "\n",
    "    city_network_id = city_network['id']\n",
    "    city_url = f\"{base_url}/{city_network_id}\"\n",
    "    city_response = requests.get(city_url)\n",
    "    \n",
    "    if city_response.status_code != 200:\n",
    "        raise Exception(f\"Failed to fetch {city} network data\")\n",
    "\n",
    "    city_data = city_response.json()\n",
    "    stations = city_data['network']['stations']\n",
    "\n",
    "    df = pd.DataFrame(stations)\n",
    "    columns = ['id', 'name', 'latitude', 'longitude', 'free_bikes', 'empty_slots']\n",
    "    \n",
    "    missing_columns = [col for col in columns if col not in df.columns]\n",
    "    if missing_columns:\n",
    "        raise ValueError(f\"Missing required columns: {missing_columns}\")\n",
    "\n",
    "    return df[columns]\n",
    "\n",
    "\n"
   ]
  },
  {
   "cell_type": "markdown",
   "metadata": {},
   "source": [
    "Parse through the response to get the details you want for the bike stations in that city (latitude, longitude, number of bikes). "
   ]
  },
  {
   "cell_type": "code",
   "execution_count": 2,
   "metadata": {},
   "outputs": [
    {
     "name": "stdout",
     "output_type": "stream",
     "text": [
      " Bike Stations\n",
      "                                 id                    name   latitude  \\\n",
      "0  004f9aea9391c0a3197981c85926fdb1            AUH - Marasy  24.451202   \n",
      "1  02757a31c3a5fd002b1e5cc8e8dc756d          AUH - Al Zeina  24.456953   \n",
      "2  08ad3c8c91a7dd78ba3532346a592fa6         AUH - Yas Plaza  24.465954   \n",
      "3  0c6a4152798197fe27137b04498cd1c5           AUH - ADIA HQ  24.486103   \n",
      "4  258198fc7f167bbf380204595e9375e1  AUH - Al Muneera North  24.452079   \n",
      "\n",
      "   longitude  free_bikes  empty_slots  \n",
      "0  54.334510           2            3  \n",
      "1  54.615754           2           12  \n",
      "2  54.598305           2            4  \n",
      "3  54.350087           1            9  \n",
      "4  54.604651           0            2  \n"
     ]
    }
   ],
   "source": [
    "# Example usage\n",
    "try:\n",
    "    city_name = input(\"Hamilton: \").strip()\n",
    "    hamilton_df = get_city_bikes_data(city_name)\n",
    "    print(f\"{city_name} Bike Stations\")\n",
    "    print(hamilton_df.head())\n",
    "except Exception as e:\n",
    "    print(f\"Error retrieving bike stations: {e}\")"
   ]
  },
  {
   "cell_type": "markdown",
   "metadata": {},
   "source": [
    "Put your parsed results into a DataFrame."
   ]
  },
  {
   "cell_type": "code",
   "execution_count": 51,
   "metadata": {},
   "outputs": [
    {
     "data": {
      "text/html": [
       "<div>\n",
       "<style scoped>\n",
       "    .dataframe tbody tr th:only-of-type {\n",
       "        vertical-align: middle;\n",
       "    }\n",
       "\n",
       "    .dataframe tbody tr th {\n",
       "        vertical-align: top;\n",
       "    }\n",
       "\n",
       "    .dataframe thead th {\n",
       "        text-align: right;\n",
       "    }\n",
       "</style>\n",
       "<table border=\"1\" class=\"dataframe\">\n",
       "  <thead>\n",
       "    <tr style=\"text-align: right;\">\n",
       "      <th></th>\n",
       "      <th>name</th>\n",
       "      <th>latitude</th>\n",
       "      <th>longitude</th>\n",
       "      <th>free_bikes</th>\n",
       "      <th>empty_slots</th>\n",
       "    </tr>\n",
       "  </thead>\n",
       "  <tbody>\n",
       "    <tr>\n",
       "      <th>0</th>\n",
       "      <td>Bay at Strachan</td>\n",
       "      <td>43.267859</td>\n",
       "      <td>-79.867923</td>\n",
       "      <td>8</td>\n",
       "      <td>16</td>\n",
       "    </tr>\n",
       "    <tr>\n",
       "      <th>1</th>\n",
       "      <td>MAC Rack ITB</td>\n",
       "      <td>43.259178</td>\n",
       "      <td>-79.920503</td>\n",
       "      <td>2</td>\n",
       "      <td>12</td>\n",
       "    </tr>\n",
       "    <tr>\n",
       "      <th>2</th>\n",
       "      <td>Augusta at John</td>\n",
       "      <td>43.251632</td>\n",
       "      <td>-79.868980</td>\n",
       "      <td>7</td>\n",
       "      <td>3</td>\n",
       "    </tr>\n",
       "    <tr>\n",
       "      <th>3</th>\n",
       "      <td>Hunter GO Centre</td>\n",
       "      <td>43.253330</td>\n",
       "      <td>-79.869533</td>\n",
       "      <td>4</td>\n",
       "      <td>13</td>\n",
       "    </tr>\n",
       "    <tr>\n",
       "      <th>4</th>\n",
       "      <td>Maple at Rothsay - ERI08</td>\n",
       "      <td>43.242163</td>\n",
       "      <td>-79.825003</td>\n",
       "      <td>2</td>\n",
       "      <td>7</td>\n",
       "    </tr>\n",
       "  </tbody>\n",
       "</table>\n",
       "</div>"
      ],
      "text/plain": [
       "                       name   latitude  longitude  free_bikes  empty_slots\n",
       "0           Bay at Strachan  43.267859 -79.867923           8           16\n",
       "1              MAC Rack ITB  43.259178 -79.920503           2           12\n",
       "2           Augusta at John  43.251632 -79.868980           7            3\n",
       "3          Hunter GO Centre  43.253330 -79.869533           4           13\n",
       "4  Maple at Rothsay - ERI08  43.242163 -79.825003           2            7"
      ]
     },
     "execution_count": 51,
     "metadata": {},
     "output_type": "execute_result"
    }
   ],
   "source": [
    "hamilton_df.head()"
   ]
  },
  {
   "cell_type": "code",
   "execution_count": null,
   "metadata": {},
   "outputs": [],
   "source": []
  }
 ],
 "metadata": {
  "kernelspec": {
   "display_name": "mylhlenv",
   "language": "python",
   "name": "python3"
  },
  "language_info": {
   "codemirror_mode": {
    "name": "ipython",
    "version": 3
   },
   "file_extension": ".py",
   "mimetype": "text/x-python",
   "name": "python",
   "nbconvert_exporter": "python",
   "pygments_lexer": "ipython3",
   "version": "3.8.20"
  }
 },
 "nbformat": 4,
 "nbformat_minor": 4
}
